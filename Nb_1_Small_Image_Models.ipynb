{
  "nbformat": 4,
  "nbformat_minor": 0,
  "metadata": {
    "colab": {
      "provenance": [],
      "gpuType": "T4",
      "authorship_tag": "ABX9TyMQUxChT3d8C+SzSbv1rmMk",
      "include_colab_link": true
    },
    "kernelspec": {
      "name": "python3",
      "display_name": "Python 3"
    },
    "language_info": {
      "name": "python"
    },
    "accelerator": "GPU"
  },
  "cells": [
    {
      "cell_type": "markdown",
      "metadata": {
        "id": "view-in-github",
        "colab_type": "text"
      },
      "source": [
        "<a href=\"https://colab.research.google.com/github/hey-sid29/paddy-disease/blob/main/Nb_1_Small_Image_Models.ipynb\" target=\"_parent\"><img src=\"https://colab.research.google.com/assets/colab-badge.svg\" alt=\"Open In Colab\"/></a>"
      ]
    },
    {
      "cell_type": "markdown",
      "source": [
        "# Notebook-1: Training Smaller Models"
      ],
      "metadata": {
        "id": "rTTu_p0jX2_I"
      }
    },
    {
      "cell_type": "markdown",
      "source": [
        "- This Notebook covers the exploration of PyTorch Image Models on the Paddy Disease Classification dataset; In this Notebook the models that are trained are smaller in size and have been trained for less epochs and less fine tuning. This notebook is more of an exploration step to understand the capabilities of Timm Models"
      ],
      "metadata": {
        "id": "TO28Ns6qYKK3"
      }
    },
    {
      "cell_type": "markdown",
      "source": [
        "# **Title**: Paddy Disease Classification"
      ],
      "metadata": {
        "id": "Ai8UO4-Y3AjI"
      }
    },
    {
      "cell_type": "markdown",
      "source": [
        "**Description**:<br>\n",
        "\n",
        "\n",
        "> Rice (Oryza sativa) is one of the staple foods worldwide. Paddy, the raw grain before removal of husk, is cultivated in tropical climates, mainly in Asian countries. Paddy cultivation requires consistent supervision because several diseases and pests might affect the paddy crops, leading to up to 70% yield loss.(source: kaggle competition)\n",
        "\n"
      ],
      "metadata": {
        "id": "Gi4Jhzo4nvjn"
      }
    },
    {
      "cell_type": "markdown",
      "source": [
        "**Project Description**:<br>\n",
        "1. Classify and Predict the type of Paddy Disease using computer vision techniques\n",
        "2. The dataset is obtained from kaggle competition.<br>\n",
        "> (source link: [Paddy Doctor: Paddy Disease Classification](https://https://www.kaggle.com/competitions/paddy-disease-classification/data))"
      ],
      "metadata": {
        "id": "3RHKc5SSoGw4"
      }
    },
    {
      "cell_type": "markdown",
      "source": [
        "**Dataset Description**:<br>\n",
        "\n",
        "* __train.csv__ - The training set\n",
        "\n",
        "> __image_id__ - Unique image identifier corresponds to image file names (.jpg) found in the train_images directory.<br>\n",
        "> __label__ - Type of paddy disease, also the target class. There are *ten categories*, including the normal leaf.<br>\n",
        "> __variety__ - The name of the paddy variety.<br>\n",
        "> __age__ - Age of the paddy in days.<br>\n",
        "\n",
        "* __sample_submission.csv__ - Sample submission file.\n",
        "<br>\n",
        "* __train_images__ - This directory contains 10,407 training images stored under different sub-directories corresponding to ten target classes. Filename corresponds to the image_id column of train.csv.\n",
        "<br>\n",
        "* __test_images__ - This directory contains 3,469 test set images."
      ],
      "metadata": {
        "id": "_hG5l0MLo3sn"
      }
    },
    {
      "cell_type": "markdown",
      "source": [
        "## I. Setting up:"
      ],
      "metadata": {
        "id": "cxpbHBHkq0sB"
      }
    },
    {
      "cell_type": "code",
      "execution_count": null,
      "metadata": {
        "id": "ViWqMhA80pX4"
      },
      "outputs": [],
      "source": [
        "## Installing fastkaggle module\n",
        "\n",
        "try:\n",
        "  import fastkaggle\n",
        "except ModuleNotFoundError:\n",
        "  !pip install -Uq fastkaggle\n",
        "\n",
        "from fastkaggle import *"
      ]
    },
    {
      "cell_type": "code",
      "source": [
        "#Setting up the colab environment:\n",
        "\n",
        "!mkdir ~/.kaggle\n",
        "!mv /content/kaggle.json ~/.kaggle/kaggle.json\n",
        "!chmod 600 /root/.kaggle/kaggle.json"
      ],
      "metadata": {
        "id": "tkvurnqOl4im"
      },
      "execution_count": null,
      "outputs": []
    },
    {
      "cell_type": "code",
      "source": [
        "data_path = 'paddy-disease-classification'\n",
        "\n",
        "path = setup_comp(data_path, install = 'fastai \"timm>=0.6.2.dev0\" ')"
      ],
      "metadata": {
        "id": "roKOaLEbhrb2"
      },
      "execution_count": null,
      "outputs": []
    },
    {
      "cell_type": "code",
      "source": [
        "!pip install timm --q"
      ],
      "metadata": {
        "id": "xpOHJGMEL0J1"
      },
      "execution_count": null,
      "outputs": []
    },
    {
      "cell_type": "code",
      "source": [
        "import timm\n",
        "from fastai.vision.all import *\n",
        "\n",
        "#Uncomment below line to make the code results reproducible\n",
        "set_seed(100)\n",
        "\n",
        "path.ls()"
      ],
      "metadata": {
        "id": "PV6Op6lGlzCT"
      },
      "execution_count": null,
      "outputs": []
    },
    {
      "cell_type": "markdown",
      "source": [
        "## II. Reading the Image data:"
      ],
      "metadata": {
        "id": "JitRxJPdmxMQ"
      }
    },
    {
      "cell_type": "code",
      "source": [
        "train_path = path/'train_images'\n",
        "files = get_image_files(train_path)"
      ],
      "metadata": {
        "id": "6WBIxM9RmgLz"
      },
      "execution_count": null,
      "outputs": []
    },
    {
      "cell_type": "code",
      "source": [
        "image = PILImage.create(files[0])\n",
        "print(image.size)\n",
        "image.to_thumb(128)"
      ],
      "metadata": {
        "id": "X_qCARMXmwNz"
      },
      "execution_count": null,
      "outputs": []
    },
    {
      "cell_type": "code",
      "source": [
        "#Checking the sizes of all available images in the `train_images` folder:\n",
        "\n",
        "\n",
        "from fastcore.parallel import *\n",
        "\n",
        "def size(img):\n",
        "  return PILImage.create(img).size\n",
        "\n",
        "\n",
        "img_sizes = parallel(size, files, n_workers = 5)\n",
        "pd.Series(img_sizes).value_counts()"
      ],
      "metadata": {
        "id": "YziShAi6nD7X"
      },
      "execution_count": null,
      "outputs": []
    },
    {
      "cell_type": "markdown",
      "source": [
        "- Majority of the pictures are of same size that is (480, 640)[10,403 images] <br>\n",
        "- A few pictures are of different size (640, 480)[4 imgs]<br>\n",
        "\n",
        "**Thus we need to resize the pictures to a consistent size**"
      ],
      "metadata": {
        "id": "E-gJwdbuFGiW"
      }
    },
    {
      "cell_type": "code",
      "source": [
        "#Creating a dataloader:\n",
        "\n",
        "dls = ImageDataLoaders.from_folder(path=train_path, valid_pct=0.25, seed=200,\n",
        "                                   item_tfms=Resize(480, method='squish'), batch_tfms=aug_transforms(size=128, min_scale=0.70))\n",
        "\n",
        "dls.show_batch(max_n=4)"
      ],
      "metadata": {
        "id": "OzBtM9leoTpN"
      },
      "execution_count": null,
      "outputs": []
    },
    {
      "cell_type": "markdown",
      "source": [
        "## III. Creating the first base model:"
      ],
      "metadata": {
        "id": "V4uzxKmOHH-w"
      }
    },
    {
      "cell_type": "markdown",
      "source": [
        "To create a model we should select a specific architecture and compare its performance with other models in the bunch. <br>\n",
        "\n",
        "\n",
        "> Here's the fantastic notebook I refer to commonly for any go-to case:[The best vision models for fine-tuning](https://https://www.kaggle.com/code/jhoward/the-best-vision-models-for-fine-tuning)<br>\n",
        "> Credits: [Jeremy Howard](https://https://www.kaggle.com/jhoward)\n",
        "\n"
      ],
      "metadata": {
        "id": "M2ZjTrdKH8X7"
      }
    },
    {
      "cell_type": "markdown",
      "source": [
        "From that I would select a few models and run experiments:<br>\n",
        "\n",
        "\n",
        "1.   *resnet26d*\n",
        "2.   *convnext_tiny*\n",
        "\n",
        "\n"
      ],
      "metadata": {
        "id": "5u0EbdePIk4E"
      }
    },
    {
      "cell_type": "code",
      "source": [
        "resnet_learner = vision_learner(dls, 'resnet26d', metrics=error_rate, path='.').to_fp16()\n",
        "convnext_tiny_learner = vision_learner(dls, 'convnext_tiny', metrics=error_rate, path='.').to_fp16()"
      ],
      "metadata": {
        "id": "MMkVFhVYG93R"
      },
      "execution_count": null,
      "outputs": []
    },
    {
      "cell_type": "markdown",
      "source": [
        "- For `Resnet26d` model:"
      ],
      "metadata": {
        "id": "OVBrt00kaawm"
      }
    },
    {
      "cell_type": "code",
      "source": [
        "#Finding an optimal Learning Rate using the `lr_find()`:\n",
        "resnet_learner.lr_find(suggest_funcs=(slide, valley))"
      ],
      "metadata": {
        "id": "xAqwLVVnJZBV"
      },
      "execution_count": null,
      "outputs": []
    },
    {
      "cell_type": "markdown",
      "source": [
        "- For the `convnext_tiny` model:"
      ],
      "metadata": {
        "id": "3IItE22vNoB0"
      }
    },
    {
      "cell_type": "code",
      "source": [
        "convnext_tiny_learner.lr_find(suggest_funcs=(slide, valley))"
      ],
      "metadata": {
        "id": "BJ1PkPZkNQOc"
      },
      "execution_count": null,
      "outputs": []
    },
    {
      "cell_type": "markdown",
      "source": [
        "#### **Training the models**:"
      ],
      "metadata": {
        "id": "_bYnC27rVReM"
      }
    },
    {
      "cell_type": "markdown",
      "source": [
        "1. Resnet26D"
      ],
      "metadata": {
        "id": "zC4DhAuoVXW5"
      }
    },
    {
      "cell_type": "code",
      "source": [
        "resnet_learner.fine_tune(epochs=7, base_lr=0.001)"
      ],
      "metadata": {
        "id": "wLPtDQDIZHBD"
      },
      "execution_count": null,
      "outputs": []
    },
    {
      "cell_type": "markdown",
      "source": [
        "2. Convnext_tiny"
      ],
      "metadata": {
        "id": "OuR12ERbVaon"
      }
    },
    {
      "cell_type": "code",
      "source": [
        "convnext_tiny_learner.fine_tune(epochs=7, base_lr=0.001)"
      ],
      "metadata": {
        "id": "lkc4ixq3VwN3"
      },
      "execution_count": null,
      "outputs": []
    },
    {
      "cell_type": "markdown",
      "source": [
        "- `convnext_tiny` performs slightly better than `resnet26d`"
      ],
      "metadata": {
        "id": "K6joUtXMgnjr"
      }
    },
    {
      "cell_type": "code",
      "source": [
        "sample_sub = pd.read_csv(path/'sample_submission.csv')"
      ],
      "metadata": {
        "id": "yE00dc_ZbJQz"
      },
      "execution_count": null,
      "outputs": []
    },
    {
      "cell_type": "code",
      "source": [
        "sample_sub"
      ],
      "metadata": {
        "id": "b59O3k4Xg0cp"
      },
      "execution_count": null,
      "outputs": []
    },
    {
      "cell_type": "code",
      "source": [
        "test_files = get_image_files(path/'test_images').sorted()\n",
        "test_dls = dls.test_dl(test_files)"
      ],
      "metadata": {
        "id": "CuMGr8rzg1tR"
      },
      "execution_count": null,
      "outputs": []
    },
    {
      "cell_type": "markdown",
      "source": [
        "### Predicting using test images:"
      ],
      "metadata": {
        "id": "ZgVBfxmVhrRS"
      }
    },
    {
      "cell_type": "markdown",
      "source": [
        "- For `Resnet26d` model:"
      ],
      "metadata": {
        "id": "7l7Nq3l1hveZ"
      }
    },
    {
      "cell_type": "code",
      "source": [
        "probs, _, idxs = resnet_learner.get_preds(dl=test_dls, with_decoded=True)\n",
        "idxs"
      ],
      "metadata": {
        "id": "VQ3_eqyYhKcF"
      },
      "execution_count": null,
      "outputs": []
    },
    {
      "cell_type": "markdown",
      "source": [
        "- For `convnext_tiny` model:"
      ],
      "metadata": {
        "id": "olwBl0M6iC-W"
      }
    },
    {
      "cell_type": "code",
      "source": [
        "probs_conv, _, idxs_conv = convnext_tiny_learner.get_preds(dl=test_dls, with_decoded=True)\n",
        "idxs_conv"
      ],
      "metadata": {
        "id": "sr9zJ4P1h_gC"
      },
      "execution_count": null,
      "outputs": []
    },
    {
      "cell_type": "markdown",
      "source": [
        "- Mapping the indexes to the name of the disease:"
      ],
      "metadata": {
        "id": "lM3oc5knirya"
      }
    },
    {
      "cell_type": "code",
      "source": [
        "dls.vocab"
      ],
      "metadata": {
        "id": "c6i6BWtNijaf"
      },
      "execution_count": null,
      "outputs": []
    },
    {
      "cell_type": "code",
      "source": [
        "mapper = dict(enumerate(dls.vocab))\n",
        "results = pd.Series(idxs.numpy(), name='idxs').map(mapper)\n",
        "print(results)"
      ],
      "metadata": {
        "id": "SafE1r-3i0No"
      },
      "execution_count": null,
      "outputs": []
    },
    {
      "cell_type": "code",
      "source": [
        "#Creating submission file for the resnet model:\n",
        "sample_sub['label']=results\n",
        "sample_sub.to_csv('sub_resnet.csv', index=False)\n"
      ],
      "metadata": {
        "id": "SkXXhWz5lHec"
      },
      "execution_count": null,
      "outputs": []
    },
    {
      "cell_type": "code",
      "source": [
        "!head sub_resnet.csv"
      ],
      "metadata": {
        "id": "HkNkqPPnmWoM"
      },
      "execution_count": null,
      "outputs": []
    },
    {
      "cell_type": "markdown",
      "source": [
        "\n",
        "\n",
        "---\n",
        "\n",
        "\n",
        "\n",
        "---\n",
        "\n"
      ],
      "metadata": {
        "id": "-ugvYlmHlwe-"
      }
    },
    {
      "cell_type": "markdown",
      "source": [
        "- Creating submission file for the `convnext_tiny` model:"
      ],
      "metadata": {
        "id": "VdqxVq1Lly4-"
      }
    },
    {
      "cell_type": "code",
      "source": [
        "res = pd.Series(idxs_conv.numpy(), name='idxs_conv').map(mapper)\n",
        "print(res)"
      ],
      "metadata": {
        "id": "xEbvwsc6jYhv"
      },
      "execution_count": null,
      "outputs": []
    },
    {
      "cell_type": "code",
      "source": [
        "sample_sub['label'] = res\n",
        "sample_sub.to_csv('sub_convnext.csv', index=False)\n",
        "!head sub_convnext.csv"
      ],
      "metadata": {
        "id": "Vg-FYQWqmJD2"
      },
      "execution_count": null,
      "outputs": []
    },
    {
      "cell_type": "markdown",
      "source": [
        "### Results of the model:<br>\n",
        "\n",
        "- `Resnet26d`<br>\n",
        "\n",
        "> Public score: 0.86; Private Score: 0.87\n",
        "\n",
        "- `ConvNext_Tiny`<br>\n",
        "\n",
        "> Public Score: 0.92; Private Score: 0.93\n",
        "\n",
        "\n",
        "\n"
      ],
      "metadata": {
        "id": "bmRSo9XwLPHs"
      }
    },
    {
      "cell_type": "markdown",
      "source": [
        "\n",
        "\n",
        "---\n",
        "\n",
        "\n",
        "\n",
        "---\n",
        "\n",
        "\n"
      ],
      "metadata": {
        "id": "hL7STZGUoXfD"
      }
    }
  ]
}